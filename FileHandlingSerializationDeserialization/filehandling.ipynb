{
 "cells": [
  {
   "cell_type": "code",
   "execution_count": 1,
   "metadata": {},
   "outputs": [],
   "source": [
    "\n",
    "\n",
    "## step for file handling\n",
    "# file ope \n",
    "# read or write data \n",
    "# close the file \n"
   ]
  },
  {
   "cell_type": "code",
   "execution_count": 2,
   "metadata": {},
   "outputs": [],
   "source": [
    "## if there has no file exist here . \n",
    "\n",
    "f= open(\"sample.txt\",'w')\n",
    "f.write(\"hello world\")\n",
    "f.close()\n",
    "\n"
   ]
  },
  {
   "cell_type": "code",
   "execution_count": 3,
   "metadata": {},
   "outputs": [
    {
     "ename": "ValueError",
     "evalue": "I/O operation on closed file.",
     "output_type": "error",
     "traceback": [
      "\u001b[1;31m---------------------------------------------------------------------------\u001b[0m",
      "\u001b[1;31mValueError\u001b[0m                                Traceback (most recent call last)",
      "Cell \u001b[1;32mIn[3], line 1\u001b[0m\n\u001b[1;32m----> 1\u001b[0m \u001b[43mf\u001b[49m\u001b[38;5;241;43m.\u001b[39;49m\u001b[43mwrite\u001b[49m\u001b[43m(\u001b[49m\u001b[38;5;124;43m\"\u001b[39;49m\u001b[38;5;124;43mthis is another line\u001b[39;49m\u001b[38;5;124;43m\"\u001b[39;49m\u001b[43m)\u001b[49m\n\u001b[0;32m      2\u001b[0m \u001b[38;5;66;03m# as i previously close the file \u001b[39;00m\n",
      "\u001b[1;31mValueError\u001b[0m: I/O operation on closed file."
     ]
    }
   ],
   "source": [
    "f.write(\"this is another line\")\n",
    "# as i previously close the file "
   ]
  },
  {
   "cell_type": "code",
   "execution_count": 5,
   "metadata": {},
   "outputs": [],
   "source": [
    "f=open('sample1.txt','w')\n",
    "f.write(\"hello word\")\n",
    "f.write(\"\\nhow are you ?\")\n",
    "f.close()"
   ]
  },
  {
   "cell_type": "code",
   "execution_count": 6,
   "metadata": {},
   "outputs": [],
   "source": [
    "## if the file already exist , \n",
    "\n",
    "f=open('sample.txt','w')\n",
    "f.write(\"My name is jabed omor \")\n",
    "f.close()\n"
   ]
  },
  {
   "cell_type": "code",
   "execution_count": 8,
   "metadata": {},
   "outputs": [],
   "source": [
    "# how exactly open works? \n",
    "f=open('sample.txt','a')\n",
    "f.write(\"\\nI am fine\")\n",
    "f.close()\n"
   ]
  },
  {
   "cell_type": "code",
   "execution_count": 9,
   "metadata": {},
   "outputs": [],
   "source": [
    "L=[\"Hello\",\"\\nhi \"]\n",
    "f=open(\"sample2.txt\",'w')\n",
    "f.writelines(L)\n",
    "f.close()\n"
   ]
  },
  {
   "cell_type": "code",
   "execution_count": 12,
   "metadata": {},
   "outputs": [
    {
     "name": "stdout",
     "output_type": "stream",
     "text": [
      "My name is jabed omor \n",
      "I am fine\n",
      "how are you?? \n"
     ]
    }
   ],
   "source": [
    "## reading from files \n",
    "f=open(\"sample.txt\",'r')\n",
    "s=f.read()\n",
    "print(s)\n",
    "f.close()\n",
    "\n",
    "\n",
    "\n",
    "\n",
    "\n"
   ]
  },
  {
   "cell_type": "code",
   "execution_count": 13,
   "metadata": {},
   "outputs": [
    {
     "name": "stdout",
     "output_type": "stream",
     "text": [
      "My name is\n"
     ]
    }
   ],
   "source": [
    "## instead of full file only first ten character read \n",
    "\n",
    "f=open(\"sample.txt\",'r')\n",
    "s=f.read(10)\n",
    "print(s)\n",
    "f.close()"
   ]
  },
  {
   "cell_type": "code",
   "execution_count": 16,
   "metadata": {},
   "outputs": [
    {
     "name": "stdout",
     "output_type": "stream",
     "text": [
      "My name is jabed omor \n",
      "I am fine\n",
      "how are you?? "
     ]
    }
   ],
   "source": [
    "## instead of full file use readlines \n",
    "\n",
    "f=open(\"sample.txt\",'r')\n",
    "print(f.readline(),end='')\n",
    "print(f.readline(),end='')\n",
    "print(f.readline(),end='')\n",
    "f.close()"
   ]
  },
  {
   "cell_type": "code",
   "execution_count": 17,
   "metadata": {},
   "outputs": [],
   "source": [
    "## using context manager (with)\n",
    "\n",
    "with open(\"sample1.txt\",'w') as f :\n",
    "    f.write(\"Hamare vai he \")"
   ]
  },
  {
   "cell_type": "code",
   "execution_count": 18,
   "metadata": {},
   "outputs": [
    {
     "name": "stdout",
     "output_type": "stream",
     "text": [
      "My name is jabed omor \n",
      "I am fine\n",
      "how are you?? \n"
     ]
    }
   ],
   "source": [
    "with open(\"sample.txt\",'r') as f :\n",
    "    print(f.read())"
   ]
  },
  {
   "cell_type": "code",
   "execution_count": 20,
   "metadata": {},
   "outputs": [
    {
     "name": "stdout",
     "output_type": "stream",
     "text": [
      "My name is\n",
      " jabed omo\n"
     ]
    }
   ],
   "source": [
    "with open(\"sample.txt\",'r') as f:\n",
    "    print(f.read(10))\n",
    "    print(f.read(10))"
   ]
  },
  {
   "cell_type": "code",
   "execution_count": 27,
   "metadata": {},
   "outputs": [],
   "source": [
    "big_L=[f'Hello world {i}' for i in range(1000) ]\n",
    "with open(\"sample_new.txt\",'w') as f:\n",
    "    f.writelines(big_L)"
   ]
  },
  {
   "cell_type": "code",
   "execution_count": 30,
   "metadata": {},
   "outputs": [
    {
     "name": "stdout",
     "output_type": "stream",
     "text": [
      "ld 7Hello world 8Hello world 9Hello world 10Hello world 11Hello world 12Hello world 13Hello world 14**o world 29Hello world 30Hello world 31Hello world 32Hello world 33Hello world 34Hello world 35Hello **d 50Hello world 51Hello world 52Hello world 53Hello world 54Hello world 55Hello world 56Hello world **llo world 72Hello world 73Hello world 74Hello world 75Hello world 76Hello world 77Hello world 78Hell**rld 93Hello world 94Hello world 95Hello world 96Hello world 97Hello world 98Hello world 99Hello worl**Hello world 114Hello world 115Hello world 116Hello world 117Hello world 118Hello world 119Hello worl**Hello world 134Hello world 135Hello world 136Hello world 137Hello world 138Hello world 139Hello worl**Hello world 154Hello world 155Hello world 156Hello world 157Hello world 158Hello world 159Hello worl**Hello world 174Hello world 175Hello world 176Hello world 177Hello world 178Hello world 179Hello worl**Hello world 194Hello world 195Hello world 196Hello world 197Hello world 198Hello world 199Hello worl**Hello world 214Hello world 215Hello world 216Hello world 217Hello world 218Hello world 219Hello worl**Hello world 234Hello world 235Hello world 236Hello world 237Hello world 238Hello world 239Hello worl**Hello world 254Hello world 255Hello world 256Hello world 257Hello world 258Hello world 259Hello worl**Hello world 274Hello world 275Hello world 276Hello world 277Hello world 278Hello world 279Hello worl**Hello world 294Hello world 295Hello world 296Hello world 297Hello world 298Hello world 299Hello worl**Hello world 314Hello world 315Hello world 316Hello world 317Hello world 318Hello world 319Hello worl**Hello world 334Hello world 335Hello world 336Hello world 337Hello world 338Hello world 339Hello worl**Hello world 354Hello world 355Hello world 356Hello world 357Hello world 358Hello world 359Hello worl**Hello world 374Hello world 375Hello world 376Hello world 377Hello world 378Hello world 379Hello worl**Hello world 394Hello world 395Hello world 396Hello world 397Hello world 398Hello world 399Hello worl**Hello world 414Hello world 415Hello world 416Hello world 417Hello world 418Hello world 419Hello worl**Hello world 434Hello world 435Hello world 436Hello world 437Hello world 438Hello world 439Hello worl**Hello world 454Hello world 455Hello world 456Hello world 457Hello world 458Hello world 459Hello worl**Hello world 474Hello world 475Hello world 476Hello world 477Hello world 478Hello world 479Hello worl**Hello world 494Hello world 495Hello world 496Hello world 497Hello world 498Hello world 499Hello worl**Hello world 514Hello world 515Hello world 516Hello world 517Hello world 518Hello world 519Hello worl**Hello world 534Hello world 535Hello world 536Hello world 537Hello world 538Hello world 539Hello worl**Hello world 554Hello world 555Hello world 556Hello world 557Hello world 558Hello world 559Hello worl**Hello world 574Hello world 575Hello world 576Hello world 577Hello world 578Hello world 579Hello worl**Hello world 594Hello world 595Hello world 596Hello world 597Hello world 598Hello world 599Hello worl**Hello world 614Hello world 615Hello world 616Hello world 617Hello world 618Hello world 619Hello worl**Hello world 634Hello world 635Hello world 636Hello world 637Hello world 638Hello world 639Hello worl**Hello world 654Hello world 655Hello world 656Hello world 657Hello world 658Hello world 659Hello worl**Hello world 674Hello world 675Hello world 676Hello world 677Hello world 678Hello world 679Hello worl**Hello world 694Hello world 695Hello world 696Hello world 697Hello world 698Hello world 699Hello worl**Hello world 714Hello world 715Hello world 716Hello world 717Hello world 718Hello world 719Hello worl**Hello world 734Hello world 735Hello world 736Hello world 737Hello world 738Hello world 739Hello worl**Hello world 754Hello world 755Hello world 756Hello world 757Hello world 758Hello world 759Hello worl**Hello world 774Hello world 775Hello world 776Hello world 777Hello world 778Hello world 779Hello worl**Hello world 794Hello world 795Hello world 796Hello world 797Hello world 798Hello world 799Hello worl**Hello world 814Hello world 815Hello world 816Hello world 817Hello world 818Hello world 819Hello worl**Hello world 834Hello world 835Hello world 836Hello world 837Hello world 838Hello world 839Hello worl**Hello world 854Hello world 855Hello world 856Hello world 857Hello world 858Hello world 859Hello worl**Hello world 874Hello world 875Hello world 876Hello world 877Hello world 878Hello world 879Hello worl**Hello world 894Hello world 895Hello world 896Hello world 897Hello world 898Hello world 899Hello worl**Hello world 914Hello world 915Hello world 916Hello world 917Hello world 918Hello world 919Hello worl**Hello world 934Hello world 935Hello world 936Hello world 937Hello world 938Hello world 939Hello worl**Hello world 954Hello world 955Hello world 956Hello world 957Hello world 958Hello world 959Hello worl**Hello world 974Hello world 975Hello world 976Hello world 977Hello world 978Hello world 979Hello worl**Hello world 994Hello world 995Hello world 996Hello world 997Hello world 998Hello world 999**"
     ]
    }
   ],
   "source": [
    "with open(\"sample_new.txt\",'r') as f :\n",
    "    chunk_size=100\n",
    "    while len(f.read(chunk_size))>0:\n",
    "        print(f.read(chunk_size),end='**')\n",
    "        f.read(chunk_size)\n",
    "        \n",
    "    "
   ]
  },
  {
   "cell_type": "code",
   "execution_count": null,
   "metadata": {},
   "outputs": [],
   "source": []
  }
 ],
 "metadata": {
  "kernelspec": {
   "display_name": "venv",
   "language": "python",
   "name": "python3"
  },
  "language_info": {
   "codemirror_mode": {
    "name": "ipython",
    "version": 3
   },
   "file_extension": ".py",
   "mimetype": "text/x-python",
   "name": "python",
   "nbconvert_exporter": "python",
   "pygments_lexer": "ipython3",
   "version": "3.12.4"
  }
 },
 "nbformat": 4,
 "nbformat_minor": 2
}
